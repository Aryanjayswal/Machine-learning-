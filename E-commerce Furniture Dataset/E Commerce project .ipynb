{
 "cells": [
  {
   "cell_type": "code",
   "execution_count": 34,
   "id": "07a65af4-0b7f-4382-a72d-0775b0277e8a",
   "metadata": {},
   "outputs": [],
   "source": [
    "import pandas as pd \n",
    "import matplotlib.pyplot as plt \n",
    "import seaborn as sns \n",
    "import numpy as np \n",
    "from sklearn.model_selection import train_test_split \n",
    "from sklearn.ensemble import RandomForestRegressor\n",
    "from sklearn.preprocessing import OneHotEncoder\n",
    "from sklearn.compose import ColumnTransformer\n",
    "from sklearn.pipeline import Pipeline\n",
    "from sklearn.metrics import mean_squared_error, r2_score\n",
    "from sklearn.ensemble import GradientBoostingRegressor\n",
    "from sklearn.feature_extraction.text import TfidfVectorizer\n",
    "import warnings\n",
    "warnings.filterwarnings(\"ignore\")"
   ]
  },
  {
   "cell_type": "code",
   "execution_count": 3,
   "id": "9c1bf19b-3d83-4871-87f9-e356f670c97c",
   "metadata": {},
   "outputs": [
    {
     "data": {
      "text/html": [
       "<div>\n",
       "<style scoped>\n",
       "    .dataframe tbody tr th:only-of-type {\n",
       "        vertical-align: middle;\n",
       "    }\n",
       "\n",
       "    .dataframe tbody tr th {\n",
       "        vertical-align: top;\n",
       "    }\n",
       "\n",
       "    .dataframe thead th {\n",
       "        text-align: right;\n",
       "    }\n",
       "</style>\n",
       "<table border=\"1\" class=\"dataframe\">\n",
       "  <thead>\n",
       "    <tr style=\"text-align: right;\">\n",
       "      <th></th>\n",
       "      <th>productTitle</th>\n",
       "      <th>originalPrice</th>\n",
       "      <th>price</th>\n",
       "      <th>sold</th>\n",
       "      <th>tagText</th>\n",
       "    </tr>\n",
       "  </thead>\n",
       "  <tbody>\n",
       "    <tr>\n",
       "      <th>0</th>\n",
       "      <td>Dresser For Bedroom With 9 Fabric Drawers Ward...</td>\n",
       "      <td>NaN</td>\n",
       "      <td>$46.79</td>\n",
       "      <td>600</td>\n",
       "      <td>Free shipping</td>\n",
       "    </tr>\n",
       "    <tr>\n",
       "      <th>1</th>\n",
       "      <td>Outdoor Conversation Set 4 Pieces Patio Furnit...</td>\n",
       "      <td>NaN</td>\n",
       "      <td>$169.72</td>\n",
       "      <td>0</td>\n",
       "      <td>Free shipping</td>\n",
       "    </tr>\n",
       "    <tr>\n",
       "      <th>2</th>\n",
       "      <td>Desser For Bedroom With 7 Fabric Drawers Organ...</td>\n",
       "      <td>$78.4</td>\n",
       "      <td>$39.46</td>\n",
       "      <td>7</td>\n",
       "      <td>Free shipping</td>\n",
       "    </tr>\n",
       "    <tr>\n",
       "      <th>3</th>\n",
       "      <td>Modern Accent Boucle Chair,Upholstered Tufted ...</td>\n",
       "      <td>NaN</td>\n",
       "      <td>$111.99</td>\n",
       "      <td>0</td>\n",
       "      <td>Free shipping</td>\n",
       "    </tr>\n",
       "    <tr>\n",
       "      <th>4</th>\n",
       "      <td>Small Unit Simple Computer Desk Household Wood...</td>\n",
       "      <td>$48.82</td>\n",
       "      <td>$21.37</td>\n",
       "      <td>1</td>\n",
       "      <td>Free shipping</td>\n",
       "    </tr>\n",
       "  </tbody>\n",
       "</table>\n",
       "</div>"
      ],
      "text/plain": [
       "                                        productTitle originalPrice    price  \\\n",
       "0  Dresser For Bedroom With 9 Fabric Drawers Ward...           NaN   $46.79   \n",
       "1  Outdoor Conversation Set 4 Pieces Patio Furnit...           NaN  $169.72   \n",
       "2  Desser For Bedroom With 7 Fabric Drawers Organ...         $78.4   $39.46   \n",
       "3  Modern Accent Boucle Chair,Upholstered Tufted ...           NaN  $111.99   \n",
       "4  Small Unit Simple Computer Desk Household Wood...        $48.82   $21.37   \n",
       "\n",
       "   sold        tagText  \n",
       "0   600  Free shipping  \n",
       "1     0  Free shipping  \n",
       "2     7  Free shipping  \n",
       "3     0  Free shipping  \n",
       "4     1  Free shipping  "
      ]
     },
     "execution_count": 3,
     "metadata": {},
     "output_type": "execute_result"
    }
   ],
   "source": [
    "df = pd.read_csv(r\"C:\\Users\\hp\\OneDrive\\Desktop\\Unifild csv files\\ecommerce_furniture_dataset_2024.csv\")\n",
    "df.head(5)"
   ]
  },
  {
   "cell_type": "code",
   "execution_count": 4,
   "id": "7f5a69cb-aad1-40c1-bd9f-5bffd420d3c1",
   "metadata": {},
   "outputs": [
    {
     "data": {
      "text/plain": [
       "(2000, 5)"
      ]
     },
     "execution_count": 4,
     "metadata": {},
     "output_type": "execute_result"
    }
   ],
   "source": [
    "df.shape"
   ]
  },
  {
   "cell_type": "code",
   "execution_count": 5,
   "id": "243d2482-511c-403c-b0ea-b77f23dba04f",
   "metadata": {},
   "outputs": [
    {
     "name": "stdout",
     "output_type": "stream",
     "text": [
      "<class 'pandas.core.frame.DataFrame'>\n",
      "RangeIndex: 2000 entries, 0 to 1999\n",
      "Data columns (total 5 columns):\n",
      " #   Column         Non-Null Count  Dtype \n",
      "---  ------         --------------  ----- \n",
      " 0   productTitle   2000 non-null   object\n",
      " 1   originalPrice  487 non-null    object\n",
      " 2   price          2000 non-null   object\n",
      " 3   sold           2000 non-null   int64 \n",
      " 4   tagText        1997 non-null   object\n",
      "dtypes: int64(1), object(4)\n",
      "memory usage: 78.3+ KB\n"
     ]
    }
   ],
   "source": [
    "df.info()"
   ]
  },
  {
   "cell_type": "code",
   "execution_count": 6,
   "id": "228023fa-be44-45b8-bcb9-28ba1c38fb50",
   "metadata": {},
   "outputs": [
    {
     "data": {
      "text/plain": [
       "productTitle        0\n",
       "originalPrice    1513\n",
       "price               0\n",
       "sold                0\n",
       "tagText             3\n",
       "dtype: int64"
      ]
     },
     "execution_count": 6,
     "metadata": {},
     "output_type": "execute_result"
    }
   ],
   "source": [
    "df.isnull().sum()"
   ]
  },
  {
   "cell_type": "code",
   "execution_count": 17,
   "id": "92128f68-895f-4645-b6fd-5d7043ae9a83",
   "metadata": {},
   "outputs": [],
   "source": [
    "df[\"price\"] = df[\"price\"].replace('[\\$,]', '', regex=True).astype(float)\n",
    "df[\"originalPrice\"] = df[\"originalPrice\"].replace('[\\$,]', '', regex=True)\n",
    "df[\"originalPrice\"] = pd.to_numeric(df[\"originalPrice\"], errors='coerce')\n",
    "df[\"originalPrice\"].fillna(df[\"price\"], inplace=True)"
   ]
  },
  {
   "cell_type": "code",
   "execution_count": 19,
   "id": "85f1a6db-91ab-4f2e-8374-d766b38253ca",
   "metadata": {},
   "outputs": [
    {
     "name": "stdout",
     "output_type": "stream",
     "text": [
      "<class 'pandas.core.frame.DataFrame'>\n",
      "RangeIndex: 2000 entries, 0 to 1999\n",
      "Data columns (total 5 columns):\n",
      " #   Column         Non-Null Count  Dtype  \n",
      "---  ------         --------------  -----  \n",
      " 0   productTitle   2000 non-null   object \n",
      " 1   originalPrice  2000 non-null   float64\n",
      " 2   price          2000 non-null   float64\n",
      " 3   sold           2000 non-null   int64  \n",
      " 4   tagText        1997 non-null   object \n",
      "dtypes: float64(2), int64(1), object(2)\n",
      "memory usage: 78.3+ KB\n"
     ]
    }
   ],
   "source": [
    "df.info()"
   ]
  },
  {
   "cell_type": "code",
   "execution_count": 21,
   "id": "600cbb61-eb6c-4eac-9fb1-5eb949701026",
   "metadata": {},
   "outputs": [
    {
     "name": "stdout",
     "output_type": "stream",
     "text": [
      "       originalPrice        price          sold\n",
      "count    2000.000000  2000.000000   2000.000000\n",
      "mean      189.538425   156.560020     23.493500\n",
      "std       260.613128   176.936735    254.094061\n",
      "min         1.010000     0.990000      0.000000\n",
      "25%        58.602500    48.530000      1.000000\n",
      "50%       121.630000   114.080000      3.000000\n",
      "75%       211.792500   193.490000      9.000000\n",
      "max      3265.130000  2876.380000  10000.000000\n",
      "tagText\n",
      "Free shipping           1880\n",
      "+Shipping: $5.09           9\n",
      "+Shipping: $239.64         2\n",
      "+Shipping: $97.54          2\n",
      "+Shipping: $64.56          2\n",
      "                        ... \n",
      "+Shipping: $88.26          1\n",
      "+Shipping: $170.31         1\n",
      "+Shipping: $1,097.18       1\n",
      "+Shipping: $106.13         1\n",
      "+Shipping: $171.49         1\n",
      "Name: count, Length: 100, dtype: int64\n",
      "productTitle     0\n",
      "originalPrice    0\n",
      "price            0\n",
      "sold             0\n",
      "tagText          3\n",
      "dtype: int64\n"
     ]
    }
   ],
   "source": [
    "print(df.describe())\n",
    "print(df['tagText'].value_counts())\n",
    "print(df.isnull().sum())"
   ]
  },
  {
   "cell_type": "code",
   "execution_count": 23,
   "id": "7f8052e2-1de2-4e8d-b7a1-faaa8f70c698",
   "metadata": {},
   "outputs": [
    {
     "data": {
      "text/plain": [
       "productTitle     0\n",
       "originalPrice    0\n",
       "price            0\n",
       "sold             0\n",
       "tagText          3\n",
       "dtype: int64"
      ]
     },
     "execution_count": 23,
     "metadata": {},
     "output_type": "execute_result"
    }
   ],
   "source": [
    "df.isnull().sum()"
   ]
  },
  {
   "cell_type": "code",
   "execution_count": 25,
   "id": "806b5bc7-c84d-414a-afad-209b5fddb182",
   "metadata": {},
   "outputs": [
    {
     "data": {
      "image/png": "[encoded data removed]",
      "text/plain": [
       "<Figure size 640x480 with 1 Axes>"
      ]
     },
     "metadata": {},
     "output_type": "display_data"
    }
   ],
   "source": [
    "# Histogram: Price\n",
    "sns.histplot(df[\"price\"], kde=True)\n",
    "plt.title(\"Price Distribution\")\n",
    "plt.show()\n",
    "\n"
   ]
  },
  {
   "cell_type": "code",
   "execution_count": 27,
   "id": "00b2e59b-0669-4b3b-ae60-97d4a986bf09",
   "metadata": {},
   "outputs": [
    {
     "data": {
      "image/png": "[encoded data removed]",
      "text/plain": [
       "<Figure size 640x480 with 1 Axes>"
      ]
     },
     "metadata": {},
     "output_type": "display_data"
    }
   ],
   "source": [
    "# Histogram: Units Sold\n",
    "sns.histplot(df[\"sold\"], kde=True, color='orange')\n",
    "plt.title(\"Sold Distribution\")\n",
    "plt.show()\n"
   ]
  },
  {
   "cell_type": "code",
   "execution_count": 28,
   "id": "e784108b-082b-4e2c-b070-2eab2455f575",
   "metadata": {},
   "outputs": [
    {
     "data": {
      "image/png": "[encoded data removed]",
      "text/plain": [
       "<Figure size 640x480 with 2 Axes>"
      ]
     },
     "metadata": {},
     "output_type": "display_data"
    }
   ],
   "source": [
    "sns.heatmap(df[['price', 'originalPrice', 'sold']].corr(), annot=True, cmap='coolwarm')\n",
    "plt.title(\"Correlation Matrix\")\n",
    "plt.show()"
   ]
  },
  {
   "cell_type": "code",
   "execution_count": 29,
   "id": "5a28f5f1-81e4-4cd0-9ad6-e97ccf0e2c07",
   "metadata": {},
   "outputs": [
    {
     "name": "stdout",
     "output_type": "stream",
     "text": [
      "                                           productTitle  price   sold\n",
      "1008  Portable round Folding Chair Accordion Chair H...  12.28  10000\n",
      "1391  MUMUCC Multifunctional Foldable And Adjustable...  21.94   3000\n",
      "696   MUMUCC Multifunctional Foldable And Adjustable...  26.11   3000\n",
      "1021  Stylish Shoe Rack Metal Simple Shoe Shelf Foot...  13.64   2000\n",
      "1174  Portability Foot Rest Under Desk Footrest Ergo...   8.04   1000\n",
      "22    Office Furniture Computer Stand 42*26cm Adjust...  26.03   1000\n",
      "1016  Monitor Stand for 13-32 inches Screens, Dual M...  66.68    900\n",
      "693   Portability Foot Rest Under Desk Footrest Ergo...   5.00    900\n",
      "1511  Portable Folding Telescopic Stool Lightweight ...  11.20    900\n",
      "494   Shoe-shelf Shoerack Multilayer Shoe Rack Shoeb...  15.40    700\n",
      "                                           productTitle   price  sold\n",
      "1999  Bed Frane Bamboo and Metal Platform Bed Frame ...   99.48     0\n",
      "612   5-Piece Dining, Farmhouse Set-Extendable Round...  540.91     0\n",
      "613   Easy Pull Handle (White) Dressing Table Closet...   84.33     0\n",
      "614   4 Pieces Patio Furniture Sets Rattan Chair Wic...  266.69     0\n",
      "616   Orange Accent Chair Set of 2 Upholstered Livin...  125.55     0\n",
      "1931  Garden Furniture Sets, Outdoor PE Rattan Loung...  474.39     0\n",
      "620   78'' White Couches for Living Room, Sofa 3 Sea...  312.90     0\n",
      "621   Dressers for Bedroom Furniture Office Organiza...   87.83     0\n",
      "622   3 Pieces Patio Wicker Furniture Set, Rattan Ou...  196.09     0\n",
      "627   Bathroom Floor Storage Cabinet, Bathroom Stora...   88.64     0\n"
     ]
    }
   ],
   "source": [
    "# Top sellers\n",
    "print(df.sort_values(\"sold\", ascending=False).head(10)[[\"productTitle\", \"price\", \"sold\"]])\n",
    "\n",
    "# Least sellers\n",
    "print(df.sort_values(\"sold\").head(10)[[\"productTitle\", \"price\", \"sold\"]])"
   ]
  },
  {
   "cell_type": "code",
   "execution_count": 36,
   "id": "7711e707-32ad-4a00-8fb8-1eca9f404a6a",
   "metadata": {},
   "outputs": [
    {
     "name": "stdout",
     "output_type": "stream",
     "text": [
      "Improved MSE: 5744.472930871143\n",
      "Improved R² Score: -0.04758877594130029\n"
     ]
    }
   ],
   "source": [
    "# Feature matrix & target\n",
    "X = df[[\"productTitle\", \"price\", \"originalPrice\", \"tagText\"]]\n",
    "y = np.log1p(df[\"sold\"]) \n",
    "\n",
    "# Preprocessing\n",
    "preprocessor = ColumnTransformer([\n",
    "    (\"title\", TfidfVectorizer(max_features=100), \"productTitle\"),\n",
    "    (\"tag\", OneHotEncoder(handle_unknown=\"ignore\"), [\"tagText\"]),\n",
    "    (\"num\", \"passthrough\", [\"price\", \"originalPrice\"])\n",
    "])\n",
    "\n",
    "#  Model pipeline\n",
    "pipeline = Pipeline([\n",
    "    (\"preprocess\", preprocessor),\n",
    "    (\"regressor\", GradientBoostingRegressor(n_estimators=200, learning_rate=0.1, max_depth=4, random_state=42))\n",
    "])\n",
    "\n",
    "\n",
    "# Train-test split\n",
    "X_train, X_test, y_train, y_test = train_test_split(X, y, test_size=0.2, random_state=42)\n",
    "pipeline.fit(X_train, y_train)\n",
    "\n",
    "# Predict & evaluate\n",
    "y_pred = pipeline.predict(X_test)\n",
    "mse = mean_squared_error(np.expm1(y_test), np.expm1(y_pred))\n",
    "r2 = r2_score(np.expm1(y_test), np.expm1(y_pred))\n",
    "\n",
    "print(\"Improved MSE:\", mse)\n",
    "print(\"Improved R² Score:\", r2)"
   ]
  },
  {
   "cell_type": "code",
   "execution_count": null,
   "id": "49140140-c6f4-431d-8984-482a80eb55d9",
   "metadata": {},
   "outputs": [],
   "source": []
  }
 ],
 "metadata": {
  "kernelspec": {
   "display_name": "Python 3 (ipykernel)",
   "language": "python",
   "name": "python3"
  },
  "language_info": {
   "codemirror_mode": {
    "name": "ipython",
    "version": 3
   },
   "file_extension": ".py",
   "mimetype": "text/x-python",
   "name": "python",
   "nbconvert_exporter": "python",
   "pygments_lexer": "ipython3",
   "version": "3.12.4"
  }
 },
 "nbformat": 4,
 "nbformat_minor": 5
}
