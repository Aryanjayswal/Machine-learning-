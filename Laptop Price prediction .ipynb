{
 "cells": [
  {
   "cell_type": "code",
   "execution_count": 61,
   "id": "ec33c8c1-f19b-4553-b262-863962dabd2e",
   "metadata": {},
   "outputs": [
    {
     "ename": "ModuleNotFoundError",
     "evalue": "No module named 'xgboost'",
     "output_type": "error",
     "traceback": [
      "\u001b[1;31m---------------------------------------------------------------------------\u001b[0m",
      "\u001b[1;31mModuleNotFoundError\u001b[0m                       Traceback (most recent call last)",
      "Cell \u001b[1;32mIn[61], line 16\u001b[0m\n\u001b[0;32m     14\u001b[0m \u001b[38;5;28;01mfrom\u001b[39;00m \u001b[38;5;21;01msklearn\u001b[39;00m\u001b[38;5;21;01m.\u001b[39;00m\u001b[38;5;21;01mensemble\u001b[39;00m \u001b[38;5;28;01mimport\u001b[39;00m RandomForestRegressor,GradientBoostingRegressor,AdaBoostRegressor,ExtraTreesRegressor\n\u001b[0;32m     15\u001b[0m \u001b[38;5;28;01mfrom\u001b[39;00m \u001b[38;5;21;01msklearn\u001b[39;00m\u001b[38;5;21;01m.\u001b[39;00m\u001b[38;5;21;01msvm\u001b[39;00m \u001b[38;5;28;01mimport\u001b[39;00m SVR\n\u001b[1;32m---> 16\u001b[0m \u001b[38;5;28;01mfrom\u001b[39;00m \u001b[38;5;21;01mxgboost\u001b[39;00m \u001b[38;5;28;01mimport\u001b[39;00m XGBRegressor\n\u001b[0;32m     17\u001b[0m \u001b[38;5;28;01mimport\u001b[39;00m \u001b[38;5;21;01mwarnings\u001b[39;00m\n\u001b[0;32m     18\u001b[0m warnings\u001b[38;5;241m.\u001b[39mfilterwarnings(\u001b[38;5;124m'\u001b[39m\u001b[38;5;124mignore\u001b[39m\u001b[38;5;124m'\u001b[39m)\n",
      "\u001b[1;31mModuleNotFoundError\u001b[0m: No module named 'xgboost'"
     ]
    }
   ],
   "source": [
    "#importing libraries\n",
    "import numpy as np\n",
    "import pandas as pd\n",
    "import seaborn as sns\n",
    "import matplotlib.pyplot as plt\n",
    "from sklearn.model_selection import train_test_split\n",
    "from sklearn.compose import ColumnTransformer\n",
    "from sklearn.pipeline import Pipeline\n",
    "from sklearn.preprocessing import OneHotEncoder\n",
    "from sklearn.metrics import r2_score,mean_absolute_error\n",
    "from sklearn.linear_model import LinearRegression,Ridge,Lasso\n",
    "from sklearn.neighbors import KNeighborsRegressor\n",
    "from sklearn.tree import DecisionTreeRegressor\n",
    "from sklearn.ensemble import RandomForestRegressor,GradientBoostingRegressor,AdaBoostRegressor,ExtraTreesRegressor\n",
    "from sklearn.svm import SVR\n"
    "import warnings\n",
    "warnings.filterwarnings('ignore')\n"
   ]
  },
  {
   "cell_type": "code",
   "execution_count": 3,
   "id": "7442aed0-447f-407d-b9f3-b8b05e1d2bbc",
   "metadata": {},
   "outputs": [
    {
     "data": {
      "text/html": [
       "<div>\n",
       "<style scoped>\n",
       "    .dataframe tbody tr th:only-of-type {\n",
       "        vertical-align: middle;\n",
       "    }\n",
       "\n",
       "    .dataframe tbody tr th {\n",
       "        vertical-align: top;\n",
       "    }\n",
       "\n",
       "    .dataframe thead th {\n",
       "        text-align: right;\n",
       "    }\n",
       "</style>\n",
       "<table border=\"1\" class=\"dataframe\">\n",
       "  <thead>\n",
       "    <tr style=\"text-align: right;\">\n",
       "      <th></th>\n",
       "      <th>Company</th>\n",
       "      <th>Product</th>\n",
       "      <th>TypeName</th>\n",
       "      <th>Inches</th>\n",
       "      <th>Ram</th>\n",
       "      <th>OS</th>\n",
       "      <th>Weight</th>\n",
       "      <th>Price_euros</th>\n",
       "      <th>Screen</th>\n",
       "      <th>ScreenW</th>\n",
       "      <th>...</th>\n",
       "      <th>RetinaDisplay</th>\n",
       "      <th>CPU_company</th>\n",
       "      <th>CPU_freq</th>\n",
       "      <th>CPU_model</th>\n",
       "      <th>PrimaryStorage</th>\n",
       "      <th>SecondaryStorage</th>\n",
       "      <th>PrimaryStorageType</th>\n",
       "      <th>SecondaryStorageType</th>\n",
       "      <th>GPU_company</th>\n",
       "      <th>GPU_model</th>\n",
       "    </tr>\n",
       "  </thead>\n",
       "  <tbody>\n",
       "    <tr>\n",
       "      <th>0</th>\n",
       "      <td>Apple</td>\n",
       "      <td>MacBook Pro</td>\n",
       "      <td>Ultrabook</td>\n",
       "      <td>13.3</td>\n",
       "      <td>8</td>\n",
       "      <td>macOS</td>\n",
       "      <td>1.37</td>\n",
       "      <td>1339.69</td>\n",
       "      <td>Standard</td>\n",
       "      <td>2560</td>\n",
       "      <td>...</td>\n",
       "      <td>Yes</td>\n",
       "      <td>Intel</td>\n",
       "      <td>2.3</td>\n",
       "      <td>Core i5</td>\n",
       "      <td>128</td>\n",
       "      <td>0</td>\n",
       "      <td>SSD</td>\n",
       "      <td>No</td>\n",
       "      <td>Intel</td>\n",
       "      <td>Iris Plus Graphics 640</td>\n",
       "    </tr>\n",
       "    <tr>\n",
       "      <th>1</th>\n",
       "      <td>Apple</td>\n",
       "      <td>Macbook Air</td>\n",
       "      <td>Ultrabook</td>\n",
       "      <td>13.3</td>\n",
       "      <td>8</td>\n",
       "      <td>macOS</td>\n",
       "      <td>1.34</td>\n",
       "      <td>898.94</td>\n",
       "      <td>Standard</td>\n",
       "      <td>1440</td>\n",
       "      <td>...</td>\n",
       "      <td>No</td>\n",
       "      <td>Intel</td>\n",
       "      <td>1.8</td>\n",
       "      <td>Core i5</td>\n",
       "      <td>128</td>\n",
       "      <td>0</td>\n",
       "      <td>Flash Storage</td>\n",
       "      <td>No</td>\n",
       "      <td>Intel</td>\n",
       "      <td>HD Graphics 6000</td>\n",
       "    </tr>\n",
       "    <tr>\n",
       "      <th>2</th>\n",
       "      <td>HP</td>\n",
       "      <td>250 G6</td>\n",
       "      <td>Notebook</td>\n",
       "      <td>15.6</td>\n",
       "      <td>8</td>\n",
       "      <td>No OS</td>\n",
       "      <td>1.86</td>\n",
       "      <td>575.00</td>\n",
       "      <td>Full HD</td>\n",
       "      <td>1920</td>\n",
       "      <td>...</td>\n",
       "      <td>No</td>\n",
       "      <td>Intel</td>\n",
       "      <td>2.5</td>\n",
       "      <td>Core i5 7200U</td>\n",
       "      <td>256</td>\n",
       "      <td>0</td>\n",
       "      <td>SSD</td>\n",
       "      <td>No</td>\n",
       "      <td>Intel</td>\n",
       "      <td>HD Graphics 620</td>\n",
       "    </tr>\n",
       "    <tr>\n",
       "      <th>3</th>\n",
       "      <td>Apple</td>\n",
       "      <td>MacBook Pro</td>\n",
       "      <td>Ultrabook</td>\n",
       "      <td>15.4</td>\n",
       "      <td>16</td>\n",
       "      <td>macOS</td>\n",
       "      <td>1.83</td>\n",
       "      <td>2537.45</td>\n",
       "      <td>Standard</td>\n",
       "      <td>2880</td>\n",
       "      <td>...</td>\n",
       "      <td>Yes</td>\n",
       "      <td>Intel</td>\n",
       "      <td>2.7</td>\n",
       "      <td>Core i7</td>\n",
       "      <td>512</td>\n",
       "      <td>0</td>\n",
       "      <td>SSD</td>\n",
       "      <td>No</td>\n",
       "      <td>AMD</td>\n",
       "      <td>Radeon Pro 455</td>\n",
       "    </tr>\n",
       "    <tr>\n",
       "      <th>4</th>\n",
       "      <td>Apple</td>\n",
       "      <td>MacBook Pro</td>\n",
       "      <td>Ultrabook</td>\n",
       "      <td>13.3</td>\n",
       "      <td>8</td>\n",
       "      <td>macOS</td>\n",
       "      <td>1.37</td>\n",
       "      <td>1803.60</td>\n",
       "      <td>Standard</td>\n",
       "      <td>2560</td>\n",
       "      <td>...</td>\n",
       "      <td>Yes</td>\n",
       "      <td>Intel</td>\n",
       "      <td>3.1</td>\n",
       "      <td>Core i5</td>\n",
       "      <td>256</td>\n",
       "      <td>0</td>\n",
       "      <td>SSD</td>\n",
       "      <td>No</td>\n",
       "      <td>Intel</td>\n",
       "      <td>Iris Plus Graphics 650</td>\n",
       "    </tr>\n",
       "  </tbody>\n",
       "</table>\n",
       "<p>5 rows × 23 columns</p>\n",
       "</div>"
      ],
      "text/plain": [
       "  Company      Product   TypeName  Inches  Ram     OS  Weight  Price_euros  \\\n",
       "0   Apple  MacBook Pro  Ultrabook    13.3    8  macOS    1.37      1339.69   \n",
       "1   Apple  Macbook Air  Ultrabook    13.3    8  macOS    1.34       898.94   \n",
       "2      HP       250 G6   Notebook    15.6    8  No OS    1.86       575.00   \n",
       "3   Apple  MacBook Pro  Ultrabook    15.4   16  macOS    1.83      2537.45   \n",
       "4   Apple  MacBook Pro  Ultrabook    13.3    8  macOS    1.37      1803.60   \n",
       "\n",
       "     Screen  ScreenW  ...  RetinaDisplay CPU_company CPU_freq      CPU_model  \\\n",
       "0  Standard     2560  ...            Yes       Intel      2.3        Core i5   \n",
       "1  Standard     1440  ...             No       Intel      1.8        Core i5   \n",
       "2   Full HD     1920  ...             No       Intel      2.5  Core i5 7200U   \n",
       "3  Standard     2880  ...            Yes       Intel      2.7        Core i7   \n",
       "4  Standard     2560  ...            Yes       Intel      3.1        Core i5   \n",
       "\n",
       "  PrimaryStorage  SecondaryStorage PrimaryStorageType  SecondaryStorageType  \\\n",
       "0            128                 0                SSD                    No   \n",
       "1            128                 0      Flash Storage                    No   \n",
       "2            256                 0                SSD                    No   \n",
       "3            512                 0                SSD                    No   \n",
       "4            256                 0                SSD                    No   \n",
       "\n",
       "   GPU_company               GPU_model  \n",
       "0        Intel  Iris Plus Graphics 640  \n",
       "1        Intel        HD Graphics 6000  \n",
       "2        Intel         HD Graphics 620  \n",
       "3          AMD          Radeon Pro 455  \n",
       "4        Intel  Iris Plus Graphics 650  \n",
       "\n",
       "[5 rows x 23 columns]"
      ]
     },
     "execution_count": 3,
     "metadata": {},
     "output_type": "execute_result"
    }
   ],
   "source": [
    "df = pd.read_csv(r\"C:\\Users\\hp\\OneDrive\\Desktop\\Unifild csv files\\laptop_prices.csv\")\n",
    "df.head(5)"
   ]
  },
  {
   "cell_type": "code",
   "execution_count": 4,
   "id": "fbfdc207-7d82-40a0-9bb1-710c37981777",
   "metadata": {},
   "outputs": [
    {
     "data": {
      "text/plain": [
       "Index(['Company', 'Product', 'TypeName', 'Inches', 'Ram', 'OS', 'Weight',\n",
       "       'Price_euros', 'Screen', 'ScreenW', 'ScreenH', 'Touchscreen',\n",
       "       'IPSpanel', 'RetinaDisplay', 'CPU_company', 'CPU_freq', 'CPU_model',\n",
       "       'PrimaryStorage', 'SecondaryStorage', 'PrimaryStorageType',\n",
       "       'SecondaryStorageType', 'GPU_company', 'GPU_model'],\n",
       "      dtype='object')"
      ]
     },
     "execution_count": 4,
     "metadata": {},
     "output_type": "execute_result"
    }
   ],
   "source": [
    "\n",
    "df.columns"
   ]
  },
  {
   "cell_type": "code",
   "execution_count": 5,
   "id": "0261df12-28d4-462d-b209-c2f6183cfd4e",
   "metadata": {},
   "outputs": [
    {
     "data": {
      "text/plain": [
       "(1275, 23)"
      ]
     },
     "execution_count": 5,
     "metadata": {},
     "output_type": "execute_result"
    }
   ],
   "source": [
    "\n",
    "df.shape"
   ]
  },
  {
   "cell_type": "code",
   "execution_count": 6,
   "id": "0d1ec16b-7013-48a1-b77d-96cad5dd6a55",
   "metadata": {},
   "outputs": [
    {
     "data": {
      "text/plain": [
       "Index(['Company', 'Product', 'TypeName', 'Inches', 'Ram', 'OS', 'Weight',\n",
       "       'Price_euros', 'Screen', 'ScreenW', 'ScreenH', 'Touchscreen',\n",
       "       'IPSpanel', 'RetinaDisplay', 'CPU_company', 'CPU_freq', 'CPU_model',\n",
       "       'PrimaryStorage', 'SecondaryStorage', 'PrimaryStorageType',\n",
       "       'SecondaryStorageType', 'GPU_company', 'GPU_model'],\n",
       "      dtype='object')"
      ]
     },
     "execution_count": 6,
     "metadata": {},
     "output_type": "execute_result"
    }
   ],
   "source": [
    "df.columns"
   ]
  },
  {
   "cell_type": "markdown",
   "id": "101341d7-a576-4e1a-ba42-34839d1683e3",
   "metadata": {},
   "source": [
    "***\n",
    "Data Cleaning"
   ]
  },
  {
   "cell_type": "code",
   "execution_count": 8,
   "id": "9e772223-65ed-4483-9d4d-e3a28e79bb3c",
   "metadata": {},
   "outputs": [
    {
     "name": "stdout",
     "output_type": "stream",
     "text": [
      "<class 'pandas.core.frame.DataFrame'>\n",
      "RangeIndex: 1275 entries, 0 to 1274\n",
      "Data columns (total 23 columns):\n",
      " #   Column                Non-Null Count  Dtype  \n",
      "---  ------                --------------  -----  \n",
      " 0   Company               1275 non-null   object \n",
      " 1   Product               1275 non-null   object \n",
      " 2   TypeName              1275 non-null   object \n",
      " 3   Inches                1275 non-null   float64\n",
      " 4   Ram                   1275 non-null   int64  \n",
      " 5   OS                    1275 non-null   object \n",
      " 6   Weight                1275 non-null   float64\n",
      " 7   Price_euros           1275 non-null   float64\n",
      " 8   Screen                1275 non-null   object \n",
      " 9   ScreenW               1275 non-null   int64  \n",
      " 10  ScreenH               1275 non-null   int64  \n",
      " 11  Touchscreen           1275 non-null   object \n",
      " 12  IPSpanel              1275 non-null   object \n",
      " 13  RetinaDisplay         1275 non-null   object \n",
      " 14  CPU_company           1275 non-null   object \n",
      " 15  CPU_freq              1275 non-null   float64\n",
      " 16  CPU_model             1275 non-null   object \n",
      " 17  PrimaryStorage        1275 non-null   int64  \n",
      " 18  SecondaryStorage      1275 non-null   int64  \n",
      " 19  PrimaryStorageType    1275 non-null   object \n",
      " 20  SecondaryStorageType  1275 non-null   object \n",
      " 21  GPU_company           1275 non-null   object \n",
      " 22  GPU_model             1275 non-null   object \n",
      "dtypes: float64(4), int64(5), object(14)\n",
      "memory usage: 229.2+ KB\n"
     ]
    }
   ],
   "source": [
    "df.info()"
   ]
  },
  {
   "cell_type": "code",
   "execution_count": 9,
   "id": "88fd6d17-c373-4040-992e-b3b70c689fd5",
   "metadata": {},
   "outputs": [
    {
     "data": {
      "text/plain": [
       "Company                 0\n",
       "Product                 0\n",
       "TypeName                0\n",
       "Inches                  0\n",
       "Ram                     0\n",
       "OS                      0\n",
       "Weight                  0\n",
       "Price_euros             0\n",
       "Screen                  0\n",
       "ScreenW                 0\n",
       "ScreenH                 0\n",
       "Touchscreen             0\n",
       "IPSpanel                0\n",
       "RetinaDisplay           0\n",
       "CPU_company             0\n",
       "CPU_freq                0\n",
       "CPU_model               0\n",
       "PrimaryStorage          0\n",
       "SecondaryStorage        0\n",
       "PrimaryStorageType      0\n",
       "SecondaryStorageType    0\n",
       "GPU_company             0\n",
       "GPU_model               0\n",
       "dtype: int64"
      ]
     },
     "execution_count": 9,
     "metadata": {},
     "output_type": "execute_result"
    }
   ],
   "source": [
    "df.isnull().sum()"
   ]
  },
  {
   "cell_type": "code",
   "execution_count": 10,
   "id": "5f36d0d3-933b-4129-a1a6-66fdca929ee9",
   "metadata": {},
   "outputs": [
    {
     "data": {
      "text/plain": [
       "0"
      ]
     },
     "execution_count": 10,
     "metadata": {},
     "output_type": "execute_result"
    }
   ],
   "source": [
    "df.duplicated().sum()"
   ]
  },
  {
   "cell_type": "code",
   "execution_count": 11,
   "id": "af85947f-0c2e-4395-a085-1d05719b53f6",
   "metadata": {},
   "outputs": [],
   "source": [
    "\n",
    "if df[\"Ram\"].dtype == 'object':  \n",
    "    df[\"Ram\"] = df[\"Ram\"].str.replace(\"GB\", \"\")\n",
    "    df[\"Ram\"] = df[\"Ram\"].astype(\"int\")\n",
    "else:\n",
    "   \n",
    "    df[\"Ram\"] = df[\"Ram\"].astype(\"int\")\n",
    "\n",
    "\n",
    "if df[\"Weight\"].dtype == 'object':  \n",
    "    df[\"Weight\"] = df[\"Weight\"].str.replace(\"kg\", \"\")\n",
    "    df[\"Weight\"] = df[\"Weight\"].astype(\"float\")\n",
    "else:\n",
    " \n",
    "    df[\"Weight\"] = df[\"Weight\"].astype(\"float\")\n",
    "\n",
    "\n",
    "\n"
   ]
  },
  {
   "cell_type": "code",
   "execution_count": 12,
   "id": "4bebd5c6-ec2e-4e07-9757-416ad68671de",
   "metadata": {},
   "outputs": [
    {
     "name": "stdout",
     "output_type": "stream",
     "text": [
      "<class 'pandas.core.frame.DataFrame'>\n",
      "RangeIndex: 1275 entries, 0 to 1274\n",
      "Data columns (total 23 columns):\n",
      " #   Column                Non-Null Count  Dtype  \n",
      "---  ------                --------------  -----  \n",
      " 0   Company               1275 non-null   object \n",
      " 1   Product               1275 non-null   object \n",
      " 2   TypeName              1275 non-null   object \n",
      " 3   Inches                1275 non-null   float64\n",
      " 4   Ram                   1275 non-null   int32  \n",
      " 5   OS                    1275 non-null   object \n",
      " 6   Weight                1275 non-null   float64\n",
      " 7   Price_euros           1275 non-null   float64\n",
      " 8   Screen                1275 non-null   object \n",
      " 9   ScreenW               1275 non-null   int64  \n",
      " 10  ScreenH               1275 non-null   int64  \n",
      " 11  Touchscreen           1275 non-null   object \n",
      " 12  IPSpanel              1275 non-null   object \n",
      " 13  RetinaDisplay         1275 non-null   object \n",
      " 14  CPU_company           1275 non-null   object \n",
      " 15  CPU_freq              1275 non-null   float64\n",
      " 16  CPU_model             1275 non-null   object \n",
      " 17  PrimaryStorage        1275 non-null   int64  \n",
      " 18  SecondaryStorage      1275 non-null   int64  \n",
      " 19  PrimaryStorageType    1275 non-null   object \n",
      " 20  SecondaryStorageType  1275 non-null   object \n",
      " 21  GPU_company           1275 non-null   object \n",
      " 22  GPU_model             1275 non-null   object \n",
      "dtypes: float64(4), int32(1), int64(4), object(14)\n",
      "memory usage: 224.2+ KB\n"
     ]
    }
   ],
   "source": [
    "df.info()"
   ]
  },
  {
   "cell_type": "markdown",
   "id": "acd89943-0204-42a9-a235-15a3bea5287f",
   "metadata": {},
   "source": [
    "Exploratory Data Analysis and Feature Engineering"
   ]
  },
  {
   "cell_type": "code",
   "execution_count": 14,
   "id": "fbaa078b-c4ed-4a04-826e-9fadbdf02908",
   "metadata": {},
   "outputs": [
    {
     "data": {
      "text/plain": [
       "<Axes: xlabel='Price_euros', ylabel='Density'>"
      ]
     },
     "execution_count": 14,
     "metadata": {},
     "output_type": "execute_result"
    },
    {
     "data": {
      "image/png": "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",
      "text/plain": [
       "<Figure size 640x480 with 1 Axes>"
      ]
     },
     "metadata": {},
     "output_type": "display_data"
    }
   ],
   "source": [
    "\n",
    "sns.distplot(df[\"Price_euros\"])"
   ]
  },
  {
   "cell_type": "code",
   "execution_count": 15,
   "id": "7a481909-8c20-46c2-b964-87952931bcf3",
   "metadata": {},
   "outputs": [
    {
     "data": {
      "text/plain": [
       "<Axes: xlabel='Company'>"
      ]
     },
     "execution_count": 15,
     "metadata": {},
     "output_type": "execute_result"
    },
    {
     "data": {
      "image/png": "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",
      "text/plain": [
       "<Figure size 640x480 with 1 Axes>"
      ]
     },
     "metadata": {},
     "output_type": "display_data"
    }
   ],
   "source": [
    "df[\"Company\"].value_counts().plot(kind=\"bar\")"
   ]
  },
  {
   "cell_type": "code",
   "execution_count": 16,
   "id": "aa8ff09f-0de3-45a7-8373-117d32cf51f4",
   "metadata": {},
   "outputs": [
    {
     "data": {
      "image/png": "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",
      "text/plain": [
       "<Figure size 640x480 with 1 Axes>"
      ]
     },
     "metadata": {},
     "output_type": "display_data"
    }
   ],
   "source": [
    "sns.barplot(x=df[\"Company\"],y=df[\"Price_euros\"])\n",
    "plt.xticks(rotation=\"vertical\")\n",
    "plt.show()"
   ]
  },
  {
   "cell_type": "code",
   "execution_count": 17,
   "id": "39d14c3f-eb59-47f2-9987-3ddafc109849",
   "metadata": {},
   "outputs": [
    {
     "data": {
      "text/plain": [
       "<Axes: xlabel='TypeName'>"
      ]
     },
     "execution_count": 17,
     "metadata": {},
     "output_type": "execute_result"
    },
    {
     "data": {
      "image/png": "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",
      "text/plain": [
       "<Figure size 640x480 with 1 Axes>"
      ]
     },
     "metadata": {},
     "output_type": "display_data"
    }
   ],
   "source": [
    "df[\"TypeName\"].value_counts().plot(kind=\"bar\")"
   ]
  },
  {
   "cell_type": "code",
   "execution_count": 18,
   "id": "c12b1b07-6b5d-4bf2-91c7-fc537bd5dbc5",
   "metadata": {},
   "outputs": [
    {
     "data": {
      "image/png": "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",
      "text/plain": [
       "<Figure size 640x480 with 1 Axes>"
      ]
     },
     "metadata": {},
     "output_type": "display_data"
    }
   ],
   "source": [
    "\n",
    "sns.barplot(x=df[\"TypeName\"],y=df[\"Price_euros\"])\n",
    "plt.xticks(rotation=\"vertical\")\n",
    "plt.show()"
   ]
  },
  {
   "cell_type": "code",
   "execution_count": 19,
   "id": "35a1827a-f889-4587-8e6d-2fe0639c1529",
   "metadata": {},
   "outputs": [
    {
     "data": {
      "text/plain": [
       "<Axes: ylabel='Density'>"
      ]
     },
     "execution_count": 19,
     "metadata": {},
     "output_type": "execute_result"
    },
    {
     "data": {
      "image/png": "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",
      "text/plain": [
       "<Figure size 640x480 with 1 Axes>"
      ]
     },
     "metadata": {},
     "output_type": "display_data"
    }
   ],
   "source": [
    "sns.distplot(x=df[\"Inches\"])"
   ]
  },
  {
   "cell_type": "code",
   "execution_count": 20,
   "id": "dfc352d0-47f1-4c19-abfb-08b3ac9d77fe",
   "metadata": {},
   "outputs": [
    {
     "data": {
      "text/plain": [
       "RetinaDisplay\n",
       "No     1258\n",
       "Yes      17\n",
       "Name: count, dtype: int64"
      ]
     },
     "execution_count": 20,
     "metadata": {},
     "output_type": "execute_result"
    }
   ],
   "source": [
    "df[\"RetinaDisplay\"].value_counts()"
   ]
  },
  {
   "cell_type": "code",
   "execution_count": 21,
   "id": "0dce4b31-d364-45bf-a91f-8e7f15b7f144",
   "metadata": {},
   "outputs": [
    {
     "data": {
      "text/plain": [
       "<Axes: xlabel='Touchscreen'>"
      ]
     },
     "execution_count": 21,
     "metadata": {},
     "output_type": "execute_result"
    },
    {
     "data": {
      "image/png": "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",
      "text/plain": [
       "<Figure size 640x480 with 1 Axes>"
      ]
     },
     "metadata": {},
     "output_type": "display_data"
    }
   ],
   "source": [
    "df[\"Touchscreen\"].value_counts().plot(kind=\"bar\")"
   ]
  },
  {
   "cell_type": "code",
   "execution_count": 22,
   "id": "eab336a3-4fd7-4905-a0cd-7856e90f4372",
   "metadata": {},
   "outputs": [
    {
     "data": {
      "text/plain": [
       "<Axes: xlabel='Touchscreen', ylabel='Price_euros'>"
      ]
     },
     "execution_count": 22,
     "metadata": {},
     "output_type": "execute_result"
    },
    {
     "data": {
      "image/png": "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",
      "text/plain": [
       "<Figure size 640x480 with 1 Axes>"
      ]
     },
     "metadata": {},
     "output_type": "display_data"
    }
   ],
   "source": [
    "sns.barplot(x=df[\"Touchscreen\"],y=df[\"Price_euros\"])"
   ]
  },
  {
   "cell_type": "code",
   "execution_count": 23,
   "id": "8e8f9470-6837-4f17-af43-bb0ff128234b",
   "metadata": {},
   "outputs": [],
   "source": [
    "def fetch_processor(text):\n",
    "    if text == 'Intel Core i7' or text == 'Intel Core i5' or text == 'Intel Core i3':\n",
    "        return text\n",
    "    else:\n",
    "        if text.split()[0] == 'Intel':\n",
    "            return 'Other Intel Processor'\n",
    "        else:\n",
    "            return 'AMD Processor'"
   ]
  },
  {
   "cell_type": "code",
   "execution_count": 24,
   "id": "539bae54-e97c-4485-bf91-12169283ac9a",
   "metadata": {},
   "outputs": [],
   "source": [
    "df.drop(columns=[\"Product\",\"Inches\",\"ScreenW\",\"RetinaDisplay\",\"GPU_company\",\"GPU_model\",\"Screen\"],inplace=True)"
   ]
  },
  {
   "cell_type": "code",
   "execution_count": 25,
   "id": "a4938709-9a82-4f4b-b429-b478e01d3735",
   "metadata": {},
   "outputs": [
    {
     "data": {
      "text/html": [
       "<div>\n",
       "<style scoped>\n",
       "    .dataframe tbody tr th:only-of-type {\n",
       "        vertical-align: middle;\n",
       "    }\n",
       "\n",
       "    .dataframe tbody tr th {\n",
       "        vertical-align: top;\n",
       "    }\n",
       "\n",
       "    .dataframe thead th {\n",
       "        text-align: right;\n",
       "    }\n",
       "</style>\n",
       "<table border=\"1\" class=\"dataframe\">\n",
       "  <thead>\n",
       "    <tr style=\"text-align: right;\">\n",
       "      <th></th>\n",
       "      <th>Company</th>\n",
       "      <th>TypeName</th>\n",
       "      <th>Ram</th>\n",
       "      <th>OS</th>\n",
       "      <th>Weight</th>\n",
       "      <th>Price_euros</th>\n",
       "      <th>ScreenH</th>\n",
       "      <th>Touchscreen</th>\n",
       "      <th>IPSpanel</th>\n",
       "      <th>CPU_company</th>\n",
       "      <th>CPU_freq</th>\n",
       "      <th>CPU_model</th>\n",
       "      <th>PrimaryStorage</th>\n",
       "      <th>SecondaryStorage</th>\n",
       "      <th>PrimaryStorageType</th>\n",
       "      <th>SecondaryStorageType</th>\n",
       "    </tr>\n",
       "  </thead>\n",
       "  <tbody>\n",
       "    <tr>\n",
       "      <th>0</th>\n",
       "      <td>Apple</td>\n",
       "      <td>Ultrabook</td>\n",
       "      <td>8</td>\n",
       "      <td>macOS</td>\n",
       "      <td>1.37</td>\n",
       "      <td>1339.69</td>\n",
       "      <td>1600</td>\n",
       "      <td>No</td>\n",
       "      <td>Yes</td>\n",
       "      <td>Intel</td>\n",
       "      <td>2.3</td>\n",
       "      <td>Core i5</td>\n",
       "      <td>128</td>\n",
       "      <td>0</td>\n",
       "      <td>SSD</td>\n",
       "      <td>No</td>\n",
       "    </tr>\n",
       "    <tr>\n",
       "      <th>1</th>\n",
       "      <td>Apple</td>\n",
       "      <td>Ultrabook</td>\n",
       "      <td>8</td>\n",
       "      <td>macOS</td>\n",
       "      <td>1.34</td>\n",
       "      <td>898.94</td>\n",
       "      <td>900</td>\n",
       "      <td>No</td>\n",
       "      <td>No</td>\n",
       "      <td>Intel</td>\n",
       "      <td>1.8</td>\n",
       "      <td>Core i5</td>\n",
       "      <td>128</td>\n",
       "      <td>0</td>\n",
       "      <td>Flash Storage</td>\n",
       "      <td>No</td>\n",
       "    </tr>\n",
       "    <tr>\n",
       "      <th>2</th>\n",
       "      <td>HP</td>\n",
       "      <td>Notebook</td>\n",
       "      <td>8</td>\n",
       "      <td>No OS</td>\n",
       "      <td>1.86</td>\n",
       "      <td>575.00</td>\n",
       "      <td>1080</td>\n",
       "      <td>No</td>\n",
       "      <td>No</td>\n",
       "      <td>Intel</td>\n",
       "      <td>2.5</td>\n",
       "      <td>Core i5 7200U</td>\n",
       "      <td>256</td>\n",
       "      <td>0</td>\n",
       "      <td>SSD</td>\n",
       "      <td>No</td>\n",
       "    </tr>\n",
       "    <tr>\n",
       "      <th>3</th>\n",
       "      <td>Apple</td>\n",
       "      <td>Ultrabook</td>\n",
       "      <td>16</td>\n",
       "      <td>macOS</td>\n",
       "      <td>1.83</td>\n",
       "      <td>2537.45</td>\n",
       "      <td>1800</td>\n",
       "      <td>No</td>\n",
       "      <td>Yes</td>\n",
       "      <td>Intel</td>\n",
       "      <td>2.7</td>\n",
       "      <td>Core i7</td>\n",
       "      <td>512</td>\n",
       "      <td>0</td>\n",
       "      <td>SSD</td>\n",
       "      <td>No</td>\n",
       "    </tr>\n",
       "    <tr>\n",
       "      <th>4</th>\n",
       "      <td>Apple</td>\n",
       "      <td>Ultrabook</td>\n",
       "      <td>8</td>\n",
       "      <td>macOS</td>\n",
       "      <td>1.37</td>\n",
       "      <td>1803.60</td>\n",
       "      <td>1600</td>\n",
       "      <td>No</td>\n",
       "      <td>Yes</td>\n",
       "      <td>Intel</td>\n",
       "      <td>3.1</td>\n",
       "      <td>Core i5</td>\n",
       "      <td>256</td>\n",
       "      <td>0</td>\n",
       "      <td>SSD</td>\n",
       "      <td>No</td>\n",
       "    </tr>\n",
       "  </tbody>\n",
       "</table>\n",
       "</div>"
      ],
      "text/plain": [
       "  Company   TypeName  Ram     OS  Weight  Price_euros  ScreenH Touchscreen  \\\n",
       "0   Apple  Ultrabook    8  macOS    1.37      1339.69     1600          No   \n",
       "1   Apple  Ultrabook    8  macOS    1.34       898.94      900          No   \n",
       "2      HP   Notebook    8  No OS    1.86       575.00     1080          No   \n",
       "3   Apple  Ultrabook   16  macOS    1.83      2537.45     1800          No   \n",
       "4   Apple  Ultrabook    8  macOS    1.37      1803.60     1600          No   \n",
       "\n",
       "  IPSpanel CPU_company  CPU_freq      CPU_model  PrimaryStorage  \\\n",
       "0      Yes       Intel       2.3        Core i5             128   \n",
       "1       No       Intel       1.8        Core i5             128   \n",
       "2       No       Intel       2.5  Core i5 7200U             256   \n",
       "3      Yes       Intel       2.7        Core i7             512   \n",
       "4      Yes       Intel       3.1        Core i5             256   \n",
       "\n",
       "   SecondaryStorage PrimaryStorageType SecondaryStorageType  \n",
       "0                 0                SSD                   No  \n",
       "1                 0      Flash Storage                   No  \n",
       "2                 0                SSD                   No  \n",
       "3                 0                SSD                   No  \n",
       "4                 0                SSD                   No  "
      ]
     },
     "execution_count": 25,
     "metadata": {},
     "output_type": "execute_result"
    }
   ],
   "source": [
    "df.head()"
   ]
  },
  {
   "cell_type": "code",
   "execution_count": 77,
   "id": "539e7a33-3b8b-40dd-8150-8839cd4cfdee",
   "metadata": {},
   "outputs": [],
   "source": [
    "X = df.drop(columns=['Price_euros'])\n",
    "y = np.log(df['Price_euros'])\n",
    "X = pd.get_dummies(X)\n",
    "\n",
    "x_train,x_test,y_train,y_test = train_test_split(X,y,test_size=0.15,random_state=2)"
   ]
  },
  {
   "cell_type": "code",
   "execution_count": 53,
   "id": "000ec3e6-8f16-420c-9402-ebd7f6373219",
   "metadata": {},
   "outputs": [
    {
     "data": {
      "text/html": [
       "<div>\n",
       "<style scoped>\n",
       "    .dataframe tbody tr th:only-of-type {\n",
       "        vertical-align: middle;\n",
       "    }\n",
       "\n",
       "    .dataframe tbody tr th {\n",
       "        vertical-align: top;\n",
       "    }\n",
       "\n",
       "    .dataframe thead th {\n",
       "        text-align: right;\n",
       "    }\n",
       "</style>\n",
       "<table border=\"1\" class=\"dataframe\">\n",
       "  <thead>\n",
       "    <tr style=\"text-align: right;\">\n",
       "      <th></th>\n",
       "      <th>Company</th>\n",
       "      <th>TypeName</th>\n",
       "      <th>Ram</th>\n",
       "      <th>OS</th>\n",
       "      <th>Weight</th>\n",
       "      <th>ScreenH</th>\n",
       "      <th>Touchscreen</th>\n",
       "      <th>IPSpanel</th>\n",
       "      <th>CPU_company</th>\n",
       "      <th>CPU_freq</th>\n",
       "      <th>CPU_model</th>\n",
       "      <th>PrimaryStorage</th>\n",
       "      <th>SecondaryStorage</th>\n",
       "      <th>PrimaryStorageType</th>\n",
       "      <th>SecondaryStorageType</th>\n",
       "    </tr>\n",
       "  </thead>\n",
       "  <tbody>\n",
       "    <tr>\n",
       "      <th>0</th>\n",
       "      <td>Apple</td>\n",
       "      <td>Ultrabook</td>\n",
       "      <td>8</td>\n",
       "      <td>macOS</td>\n",
       "      <td>1.37</td>\n",
       "      <td>1600</td>\n",
       "      <td>No</td>\n",
       "      <td>Yes</td>\n",
       "      <td>Intel</td>\n",
       "      <td>2.3</td>\n",
       "      <td>Core i5</td>\n",
       "      <td>128</td>\n",
       "      <td>0</td>\n",
       "      <td>SSD</td>\n",
       "      <td>No</td>\n",
       "    </tr>\n",
       "    <tr>\n",
       "      <th>1</th>\n",
       "      <td>Apple</td>\n",
       "      <td>Ultrabook</td>\n",
       "      <td>8</td>\n",
       "      <td>macOS</td>\n",
       "      <td>1.34</td>\n",
       "      <td>900</td>\n",
       "      <td>No</td>\n",
       "      <td>No</td>\n",
       "      <td>Intel</td>\n",
       "      <td>1.8</td>\n",
       "      <td>Core i5</td>\n",
       "      <td>128</td>\n",
       "      <td>0</td>\n",
       "      <td>Flash Storage</td>\n",
       "      <td>No</td>\n",
       "    </tr>\n",
       "    <tr>\n",
       "      <th>2</th>\n",
       "      <td>HP</td>\n",
       "      <td>Notebook</td>\n",
       "      <td>8</td>\n",
       "      <td>No OS</td>\n",
       "      <td>1.86</td>\n",
       "      <td>1080</td>\n",
       "      <td>No</td>\n",
       "      <td>No</td>\n",
       "      <td>Intel</td>\n",
       "      <td>2.5</td>\n",
       "      <td>Core i5 7200U</td>\n",
       "      <td>256</td>\n",
       "      <td>0</td>\n",
       "      <td>SSD</td>\n",
       "      <td>No</td>\n",
       "    </tr>\n",
       "    <tr>\n",
       "      <th>3</th>\n",
       "      <td>Apple</td>\n",
       "      <td>Ultrabook</td>\n",
       "      <td>16</td>\n",
       "      <td>macOS</td>\n",
       "      <td>1.83</td>\n",
       "      <td>1800</td>\n",
       "      <td>No</td>\n",
       "      <td>Yes</td>\n",
       "      <td>Intel</td>\n",
       "      <td>2.7</td>\n",
       "      <td>Core i7</td>\n",
       "      <td>512</td>\n",
       "      <td>0</td>\n",
       "      <td>SSD</td>\n",
       "      <td>No</td>\n",
       "    </tr>\n",
       "    <tr>\n",
       "      <th>4</th>\n",
       "      <td>Apple</td>\n",
       "      <td>Ultrabook</td>\n",
       "      <td>8</td>\n",
       "      <td>macOS</td>\n",
       "      <td>1.37</td>\n",
       "      <td>1600</td>\n",
       "      <td>No</td>\n",
       "      <td>Yes</td>\n",
       "      <td>Intel</td>\n",
       "      <td>3.1</td>\n",
       "      <td>Core i5</td>\n",
       "      <td>256</td>\n",
       "      <td>0</td>\n",
       "      <td>SSD</td>\n",
       "      <td>No</td>\n",
       "    </tr>\n",
       "    <tr>\n",
       "      <th>...</th>\n",
       "      <td>...</td>\n",
       "      <td>...</td>\n",
       "      <td>...</td>\n",
       "      <td>...</td>\n",
       "      <td>...</td>\n",
       "      <td>...</td>\n",
       "      <td>...</td>\n",
       "      <td>...</td>\n",
       "      <td>...</td>\n",
       "      <td>...</td>\n",
       "      <td>...</td>\n",
       "      <td>...</td>\n",
       "      <td>...</td>\n",
       "      <td>...</td>\n",
       "      <td>...</td>\n",
       "    </tr>\n",
       "    <tr>\n",
       "      <th>1270</th>\n",
       "      <td>Lenovo</td>\n",
       "      <td>2 in 1 Convertible</td>\n",
       "      <td>4</td>\n",
       "      <td>Windows 10</td>\n",
       "      <td>1.80</td>\n",
       "      <td>1080</td>\n",
       "      <td>Yes</td>\n",
       "      <td>Yes</td>\n",
       "      <td>Intel</td>\n",
       "      <td>2.5</td>\n",
       "      <td>Core i7 6500U</td>\n",
       "      <td>128</td>\n",
       "      <td>0</td>\n",
       "      <td>SSD</td>\n",
       "      <td>No</td>\n",
       "    </tr>\n",
       "    <tr>\n",
       "      <th>1271</th>\n",
       "      <td>Lenovo</td>\n",
       "      <td>2 in 1 Convertible</td>\n",
       "      <td>16</td>\n",
       "      <td>Windows 10</td>\n",
       "      <td>1.30</td>\n",
       "      <td>1800</td>\n",
       "      <td>Yes</td>\n",
       "      <td>Yes</td>\n",
       "      <td>Intel</td>\n",
       "      <td>2.5</td>\n",
       "      <td>Core i7 6500U</td>\n",
       "      <td>512</td>\n",
       "      <td>0</td>\n",
       "      <td>SSD</td>\n",
       "      <td>No</td>\n",
       "    </tr>\n",
       "    <tr>\n",
       "      <th>1272</th>\n",
       "      <td>Lenovo</td>\n",
       "      <td>Notebook</td>\n",
       "      <td>2</td>\n",
       "      <td>Windows 10</td>\n",
       "      <td>1.50</td>\n",
       "      <td>768</td>\n",
       "      <td>No</td>\n",
       "      <td>No</td>\n",
       "      <td>Intel</td>\n",
       "      <td>1.6</td>\n",
       "      <td>Celeron Dual Core N3050</td>\n",
       "      <td>64</td>\n",
       "      <td>0</td>\n",
       "      <td>Flash Storage</td>\n",
       "      <td>No</td>\n",
       "    </tr>\n",
       "    <tr>\n",
       "      <th>1273</th>\n",
       "      <td>HP</td>\n",
       "      <td>Notebook</td>\n",
       "      <td>6</td>\n",
       "      <td>Windows 10</td>\n",
       "      <td>2.19</td>\n",
       "      <td>768</td>\n",
       "      <td>No</td>\n",
       "      <td>No</td>\n",
       "      <td>Intel</td>\n",
       "      <td>2.5</td>\n",
       "      <td>Core i7 6500U</td>\n",
       "      <td>1024</td>\n",
       "      <td>0</td>\n",
       "      <td>HDD</td>\n",
       "      <td>No</td>\n",
       "    </tr>\n",
       "    <tr>\n",
       "      <th>1274</th>\n",
       "      <td>Asus</td>\n",
       "      <td>Notebook</td>\n",
       "      <td>4</td>\n",
       "      <td>Windows 10</td>\n",
       "      <td>2.20</td>\n",
       "      <td>768</td>\n",
       "      <td>No</td>\n",
       "      <td>No</td>\n",
       "      <td>Intel</td>\n",
       "      <td>1.6</td>\n",
       "      <td>Celeron Dual Core N3050</td>\n",
       "      <td>500</td>\n",
       "      <td>0</td>\n",
       "      <td>HDD</td>\n",
       "      <td>No</td>\n",
       "    </tr>\n",
       "  </tbody>\n",
       "</table>\n",
       "<p>1275 rows × 15 columns</p>\n",
       "</div>"
      ],
      "text/plain": [
       "     Company            TypeName  Ram          OS  Weight  ScreenH  \\\n",
       "0      Apple           Ultrabook    8       macOS    1.37     1600   \n",
       "1      Apple           Ultrabook    8       macOS    1.34      900   \n",
       "2         HP            Notebook    8       No OS    1.86     1080   \n",
       "3      Apple           Ultrabook   16       macOS    1.83     1800   \n",
       "4      Apple           Ultrabook    8       macOS    1.37     1600   \n",
       "...      ...                 ...  ...         ...     ...      ...   \n",
       "1270  Lenovo  2 in 1 Convertible    4  Windows 10    1.80     1080   \n",
       "1271  Lenovo  2 in 1 Convertible   16  Windows 10    1.30     1800   \n",
       "1272  Lenovo            Notebook    2  Windows 10    1.50      768   \n",
       "1273      HP            Notebook    6  Windows 10    2.19      768   \n",
       "1274    Asus            Notebook    4  Windows 10    2.20      768   \n",
       "\n",
       "     Touchscreen IPSpanel CPU_company  CPU_freq                CPU_model  \\\n",
       "0             No      Yes       Intel       2.3                  Core i5   \n",
       "1             No       No       Intel       1.8                  Core i5   \n",
       "2             No       No       Intel       2.5            Core i5 7200U   \n",
       "3             No      Yes       Intel       2.7                  Core i7   \n",
       "4             No      Yes       Intel       3.1                  Core i5   \n",
       "...          ...      ...         ...       ...                      ...   \n",
       "1270         Yes      Yes       Intel       2.5            Core i7 6500U   \n",
       "1271         Yes      Yes       Intel       2.5            Core i7 6500U   \n",
       "1272          No       No       Intel       1.6  Celeron Dual Core N3050   \n",
       "1273          No       No       Intel       2.5            Core i7 6500U   \n",
       "1274          No       No       Intel       1.6  Celeron Dual Core N3050   \n",
       "\n",
       "      PrimaryStorage  SecondaryStorage PrimaryStorageType SecondaryStorageType  \n",
       "0                128                 0                SSD                   No  \n",
       "1                128                 0      Flash Storage                   No  \n",
       "2                256                 0                SSD                   No  \n",
       "3                512                 0                SSD                   No  \n",
       "4                256                 0                SSD                   No  \n",
       "...              ...               ...                ...                  ...  \n",
       "1270             128                 0                SSD                   No  \n",
       "1271             512                 0                SSD                   No  \n",
       "1272              64                 0      Flash Storage                   No  \n",
       "1273            1024                 0                HDD                   No  \n",
       "1274             500                 0                HDD                   No  \n",
       "\n",
       "[1275 rows x 15 columns]"
      ]
     },
     "execution_count": 53,
     "metadata": {},
     "output_type": "execute_result"
    }
   ],
   "source": [
    "X"
   ]
  },
  {
   "cell_type": "code",
   "execution_count": 57,
   "id": "4c816153-d571-4459-9060-8e2c5449eb56",
   "metadata": {},
   "outputs": [
    {
     "data": {
      "text/plain": [
       "0       7.200194\n",
       "1       6.801216\n",
       "2       6.354370\n",
       "3       7.838915\n",
       "4       7.497540\n",
       "          ...   \n",
       "1270    6.458338\n",
       "1271    7.312553\n",
       "1272    5.433722\n",
       "1273    6.638568\n",
       "1274    5.910797\n",
       "Name: Price_euros, Length: 1275, dtype: float64"
      ]
     },
     "execution_count": 57,
     "metadata": {},
     "output_type": "execute_result"
    }
   ],
   "source": [
    "y"
   ]
  },
  {
   "cell_type": "code",
   "execution_count": 73,
   "id": "30afd56c-8b52-487d-8d55-dfdefd8ed9fd",
   "metadata": {},
   "outputs": [],
   "source": []
  },
  {
   "cell_type": "markdown",
   "id": "1f6013ce-6ec0-46d9-a388-1fa12a540aad",
   "metadata": {},
   "source": [
    "Linear regression"
   ]
  },
  {
   "cell_type": "code",
   "execution_count": 93,
   "id": "38d37c70-b568-46b9-8c60-24c4fc1e63d2",
   "metadata": {},
   "outputs": [
    {
     "name": "stdout",
     "output_type": "stream",
     "text": [
      "R2 score -12794175813893.229\n",
      "MAE 276231.440929867\n"
     ]
    }
   ],
   "source": [
    "model = LinearRegression()\n",
    "model.fit(x_train,y_train)\n",
    "y_pred = model.predict(x_test)\n",
    "print('R2 score',r2_score(y_test,y_pred))\n",
    "print('MAE',mean_absolute_error(y_test,y_pred))"
   ]
  },
  {
   "cell_type": "markdown",
   "id": "f8189549-35d4-43fb-906d-22dbaba00f58",
   "metadata": {},
   "source": [
    "KNN"
   ]
  },
  {
   "cell_type": "code",
   "execution_count": 113,
   "id": "38379cdd-bd2f-4e4a-837a-80656b442740",
   "metadata": {},
   "outputs": [
    {
     "name": "stdout",
     "output_type": "stream",
     "text": [
      "naighbors is 1,score is 0.8169417821945953\n",
      "naighbors is 2,score is 0.832818441130617\n",
      "naighbors is 3,score is 0.8401635823169578\n",
      "naighbors is 4,score is 0.8374803908415571\n",
      "naighbors is 5,score is 0.8311247533274652\n",
      "naighbors is 6,score is 0.8235540132492838\n",
      "naighbors is 7,score is 0.8189387756011086\n",
      "naighbors is 8,score is 0.8104553456865226\n",
      "naighbors is 9,score is 0.8061077034535876\n",
      "MAE 0.21420188710624222\n"
     ]
    }
   ],
   "source": [
    "\n",
    "nighbors = list(range(1,10))\n",
    "for i in nighbors:\n",
    "    model = KNeighborsRegressor(n_neighbors=i)\n",
    "    model.fit(x_train,y_train)\n",
    "    y_pred = model.predict(x_test)\n",
    "    score = r2_score(y_test,y_pred)\n",
    "    print(f\"naighbors is {i},score is {score}\")\n",
    "\n",
    "print('MAE',mean_absolute_error(y_test,y_pred))"
   ]
  },
  {
   "cell_type": "markdown",
   "id": "baa76bed-e485-4022-ba03-848649b9a649",
   "metadata": {},
   "source": [
    "Decision Tree"
   ]
  },
  {
   "cell_type": "code",
   "execution_count": 116,
   "id": "ce241df7-ce51-4cd8-b8e7-a7e8a85f4072",
   "metadata": {},
   "outputs": [
    {
     "name": "stdout",
     "output_type": "stream",
     "text": [
      "naighbors is 1,score is 0.5507046375694188\n",
      "naighbors is 2,score is 0.6907909265448298\n",
      "naighbors is 3,score is 0.740680866424793\n",
      "naighbors is 4,score is 0.7834945179760647\n",
      "naighbors is 5,score is 0.8021632418699888\n",
      "naighbors is 6,score is 0.8195520923009731\n",
      "naighbors is 7,score is 0.8204165199293328\n",
      "naighbors is 8,score is 0.8111438626420633\n",
      "naighbors is 9,score is 0.8212662155238224\n",
      "MAE 0.19813782607753758\n"
     ]
    }
   ],
   "source": [
    "depth= list(range(1,10))\n",
    "for i in depth:\n",
    "    model = DecisionTreeRegressor(max_depth=i)\n",
    "    model.fit(x_train,y_train)\n",
    "    y_pred = model.predict(x_test)\n",
    "    score = r2_score(y_test,y_pred)\n",
    "    print(f\"naighbors is {i},score is {score}\")\n",
    "\n",
    "print('MAE',mean_absolute_error(y_test,y_pred))"
   ]
  },
  {
   "cell_type": "markdown",
   "id": "76a18d89-6643-4645-b9ce-7edba4359dea",
   "metadata": {},
   "source": [
    "SVM"
   ]
  },
  {
   "cell_type": "code",
   "execution_count": 134,
   "id": "66d8b7fd-0c46-4ee9-b829-b9f927ffb65f",
   "metadata": {},
   "outputs": [
    {
     "name": "stdout",
     "output_type": "stream",
     "text": [
      "score is 0.8205337762532389\n",
      "MAE 0.20882708573020725\n"
     ]
    }
   ],
   "source": [
    "model = SVR(C=5000)\n",
    "model.fit(x_train,y_train)\n",
    "y_pred = model.predict(x_test)\n",
    "score = r2_score(y_test,y_pred)\n",
    "print(f\"score is {score}\")\n",
    "print('MAE',mean_absolute_error(y_test,y_pred))"
   ]
  },
  {
   "cell_type": "markdown",
   "id": "1417eca9-2f68-44a2-938d-7c3c9a47f28d",
   "metadata": {},
   "source": [
    "Random Forest"
   ]
  },
  {
   "cell_type": "code",
   "execution_count": 143,
   "id": "94be68cc-ccd3-4c6c-b73c-f24ac6040c0d",
   "metadata": {},
   "outputs": [
    {
     "name": "stdout",
     "output_type": "stream",
     "text": [
      "score is 0.8937513218037078\n",
      "MAE 0.15748061476303046\n"
     ]
    }
   ],
   "source": [
    "model = RandomForestRegressor()\n",
    "model.fit(x_train,y_train)\n",
    "y_pred = model.predict(x_test)\n",
    "score = r2_score(y_test,y_pred)\n",
    "print(f\"score is {score}\")\n",
    "print('MAE',mean_absolute_error(y_test,y_pred))"
   ]
  },
  {
   "cell_type": "markdown",
   "id": "5116ddef-3e26-49a4-b657-eafb13779cd2",
   "metadata": {},
   "source": [
    "Observations\n",
    "\n",
    "Random Forest Model gives the best R2 score\r\n",
    "\r\n",
    "R2 score 0.8873402378382488\r\n",
    "\r\n",
    "MAE 0.15860130110457718"
   ]
  },
  {
   "cell_type": "code",
   "execution_count": null,
   "id": "cc53089a-0dcc-456d-b842-5b8b158a3aa3",
   "metadata": {},
   "outputs": [],
   "source": []
  }
 ],
 "metadata": {
  "kernelspec": {
   "display_name": "Python 3 (ipykernel)",
   "language": "python",
   "name": "python3"
  },
  "language_info": {
   "codemirror_mode": {
    "name": "ipython",
    "version": 3
   },
   "file_extension": ".py",
   "mimetype": "text/x-python",
   "name": "python",
   "nbconvert_exporter": "python",
   "pygments_lexer": "ipython3",
   "version": "3.12.4"
  }
 },
 "nbformat": 4,
 "nbformat_minor": 5
}
